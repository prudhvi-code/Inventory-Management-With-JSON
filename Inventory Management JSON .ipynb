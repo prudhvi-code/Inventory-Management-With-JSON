{
 "cells": [
  {
   "cell_type": "code",
   "execution_count": 91,
   "id": "0dde6c78-ebc8-431a-b98e-b933f23f2fb0",
   "metadata": {},
   "outputs": [
    {
     "name": "stdout",
     "output_type": "stream",
     "text": [
      "***************** MENU ******************\n",
      "1000 : Fuse 20 100\n",
      "1001 : Diary Milk 10 100\n",
      "1002 : Choco Cake 150 150\n",
      "1003 : Choco fills 15 80\n",
      "-----------------------------------------\n"
     ]
    },
    {
     "name": "stdin",
     "output_type": "stream",
     "text": [
      "Enter Product ID : 1003\n",
      "Enter Quantity: 90\n",
      "Enter your name: Krish\n",
      "Enter your phone: 847638938039\n",
      "Enter yout email: krish@gamil.com\n"
     ]
    },
    {
     "name": "stdout",
     "output_type": "stream",
     "text": [
      "Sorry ! We are out of Quantity\n",
      "We are having only  80 Quantity\n"
     ]
    },
    {
     "name": "stdin",
     "output_type": "stream",
     "text": [
      "Would you need these Y/N y\n"
     ]
    },
    {
     "name": "stdout",
     "output_type": "stream",
     "text": [
      "-----------------------------------------\n",
      "***************** Bill ********************\n",
      "\n",
      "Name of Product  : Choco fills Rs\n",
      "Price of Product : 15\n",
      "Quantity         : 80\n",
      "-----------------------------------------\n",
      "Enter you got 10% discount\n",
      "Billing Amount   : 1215.0 Rs\n",
      "-----------------------------------------\n",
      "Thank you For Your Order\n"
     ]
    }
   ],
   "source": [
    "import json\n",
    "import time\n",
    "\n",
    "sales=' '\n",
    "\n",
    "fd=open('Records.json','r')\n",
    "js=fd.read()\n",
    "fd.close()\n",
    "print('***************** MENU ******************')\n",
    "\n",
    "record=json.loads(js)\n",
    "\n",
    "for key in record.keys():\n",
    "    print(key,':',record[key]['Name'] ,record[key]['Price'],record[key]['Quantity'])\n",
    "\n",
    "print('-----------------------------------------')\n",
    "\n",
    "prdid=str(input(\"Enter Product ID :\"))\n",
    "userquan=int(input(\"Enter Quantity:\"))\n",
    "username=str(input(\"Enter your name:\"))\n",
    "userphone=str(input(\"Enter your phone:\"))\n",
    "usermail=str(input(\"Enter yout email:\"))\n",
    "\n",
    "if(record[prdid]['Quantity'] >=userquan):\n",
    "    print('-----------------------------------------')\n",
    "    print(\"***************** Bill ********************\\n\")\n",
    "    print(\"Name of Product  :\",record[prdid]['Name'],'Rs')\n",
    "    print(\"Price of Product :\",record[prdid]['Price'])\n",
    "    print(\"Quantity         :\",userquan)\n",
    "    print('-----------------------------------------')\n",
    "    if(userquan >=50):\n",
    "        print(\"Enter you got 10% discount\")\n",
    "        print(\"Billing Amount   :\",0.9*(userquan*(record[prdid]['Price'])),'Rs')\n",
    "        sales=str(username)+\",\"+str(userphone)+\",\"+str(usermail)+\",\"+prdid+\",\"+record[prdid]['Name']+\",\"+str(record[prdid]['Price'])+\",\"+str(userquan)+\",\"+str(0.9*(userquan*(record[prdid]['Price'])))+\",\"+time.ctime()+'\\n'\n",
    "        record[prdid]['Quantity']=record[prdid]['Quantity']-userquan\n",
    "    else:\n",
    "        print(\"Billing Amount   :\",(userquan*(record[prdid]['Price'])),'Rs')\n",
    "    \n",
    "        sales=str(username)+\",\"+str(userphone)+\",\"+str(usermail)+\",\"+prdid+\",\"+record[prdid]['Name']+\",\"+str(record[prdid]['Price'])+\",\"+str(userquan)+\",\"+str(userquan*(record[prdid]['Price']))+\",\"+time.ctime()+'\\n'\n",
    "        record[prdid]['Quantity']=record[prdid]['Quantity']-userquan\n",
    "    print('-----------------------------------------')\n",
    "else:\n",
    "    print(\"Sorry ! We are out of Quantity\")\n",
    "    print(\"We are having only \",record[prdid]['Quantity'],\"Quantity\")\n",
    "    choice=input(\"Would you need these Y/N\")\n",
    "    if(choice==\"Y\" or choice =='y'):\n",
    "        print('-----------------------------------------')\n",
    "        print(\"***************** Bill ********************\\n\")\n",
    "        print(\"Name of Product  :\",record[prdid]['Name'],'Rs')\n",
    "        print(\"Price of Product :\",record[prdid]['Price'])\n",
    "        print(\"Quantity         :\",record[prdid]['Quantity'])\n",
    "        print('-----------------------------------------')\n",
    "        if(record[prdid]['Quantity']>=50):\n",
    "             print(\"Enter you got 10% discount\")\n",
    "             print(\"Billing Amount   :\",0.9*(userquan*(record[prdid]['Price'])),'Rs')\n",
    "             sales=str(username)+\",\"+str(userphone)+\",\"+str(usermail)+\",\"+prdid+\",\"+record[prdid]['Name']+\",\"+str(record[prdid]['Price'])+\",\"+str(userquan)+\",\"+str(0.9*(userquan*(record[prdid]['Price'])))+\",\"+time.ctime()+'\\n'\n",
    "             record[prdid]['Quantity']=0\n",
    "        else:\n",
    "             print(\"Billing Amount   :\",(userquan*(record[prdid]['Price'])),'Rs')\n",
    "    \n",
    "             sales=str(username)+\",\"+str(userphone)+\",\"+str(usermail)+\",\"+prdid+\",\"+record[prdid]['Name']+\",\"+str(record[prdid]['Price'])+\",\"+str(userquan)+\",\"+str(userquan*(record[prdid]['Price']))+\",\"+time.ctime()+'\\n'\n",
    "             record[prdid]['Quantity']=0\n",
    "        \n",
    "        print('-----------------------------------------')\n",
    "       \n",
    "    else:\n",
    "        print(\"Thank You Visit Again\")\n",
    "js=json.dumps(record)\n",
    "fd=open('Records.json','w')\n",
    "fd.write(js)\n",
    "fd.close() \n",
    "\n",
    "fd=open(\"sales.txt\",'a')\n",
    "fd.write(sales)\n",
    "fd.close()\n",
    "\n",
    "print(\"Thank you For Your Order\")"
   ]
  },
  {
   "cell_type": "code",
   "execution_count": null,
   "id": "53669dfe-e1ff-46bf-b615-c30d6bb7eeaf",
   "metadata": {},
   "outputs": [],
   "source": []
  },
  {
   "cell_type": "code",
   "execution_count": null,
   "id": "b70d5bd4-1e28-4684-bd4f-5a973840cd2c",
   "metadata": {},
   "outputs": [],
   "source": []
  },
  {
   "cell_type": "code",
   "execution_count": null,
   "id": "8ae1bf9f-6cc6-4979-ae5a-1297227dbd60",
   "metadata": {},
   "outputs": [],
   "source": []
  },
  {
   "cell_type": "code",
   "execution_count": null,
   "id": "7f71706b-3360-4c1c-a575-5fd15035e766",
   "metadata": {},
   "outputs": [],
   "source": []
  },
  {
   "cell_type": "code",
   "execution_count": null,
   "id": "c62c5ca4-2ceb-4c62-bf43-4634551f29bb",
   "metadata": {},
   "outputs": [],
   "source": []
  }
 ],
 "metadata": {
  "kernelspec": {
   "display_name": "Python 3 (ipykernel)",
   "language": "python",
   "name": "python3"
  },
  "language_info": {
   "codemirror_mode": {
    "name": "ipython",
    "version": 3
   },
   "file_extension": ".py",
   "mimetype": "text/x-python",
   "name": "python",
   "nbconvert_exporter": "python",
   "pygments_lexer": "ipython3",
   "version": "3.12.9"
  }
 },
 "nbformat": 4,
 "nbformat_minor": 5
}
